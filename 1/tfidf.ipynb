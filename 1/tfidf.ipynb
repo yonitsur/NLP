{
  "cells": [
    {
      "cell_type": "code",
      "execution_count": null,
      "metadata": {
        "id": "-Fj48N5THxUv"
      },
      "outputs": [],
      "source": [
        "def computeTF(token: str, doc: str):\n",
        "  words = doc.split(\" \")\n",
        "  count_t_d = 0\n",
        "  for word in words:\n",
        "    if word==token:\n",
        "      count_t_d += 1\n",
        "\n",
        "  return  count_t_d/len(words)"
      ]
    },
    {
      "cell_type": "code",
      "execution_count": null,
      "metadata": {
        "id": "dH_neFJeMEbN"
      },
      "outputs": [],
      "source": [
        "def computeDF(token: str, corpus: list):\n",
        "  DF = 0\n",
        "  for d in corpus:\n",
        "    if token in d.split(\" \"):\n",
        "      DF += 1\n",
        "\n",
        "  return DF"
      ]
    },
    {
      "cell_type": "code",
      "execution_count": null,
      "metadata": {
        "id": "xoW7Osq7crW6"
      },
      "outputs": [],
      "source": [
        "import math\n",
        "def computeIDF(token: str, corpus: list):\n",
        "  return math.log(len(corpus)/(computeDF(token,corpus)+1))"
      ]
    },
    {
      "cell_type": "code",
      "execution_count": null,
      "metadata": {
        "id": "Ccm-vrsgctZI"
      },
      "outputs": [],
      "source": [
        "def computeTFIDF(token: str, doc: str, corpus: list):\n",
        "  return computeTF(token, doc)*computeIDF(token, corpus)"
      ]
    },
    {
      "cell_type": "code",
      "execution_count": null,
      "metadata": {
        "id": "sFGUVkMFfBUR"
      },
      "outputs": [],
      "source": [
        "pip install datasets"
      ]
    },
    {
      "cell_type": "code",
      "execution_count": null,
      "metadata": {
        "id": "TgJyHESjfz0W"
      },
      "outputs": [],
      "source": [
        "pip install apache_beam"
      ]
    },
    {
      "cell_type": "code",
      "execution_count": null,
      "metadata": {
        "id": "Pm75pVLFfGo1"
      },
      "outputs": [],
      "source": [
        "# constructing the corpus\n",
        "\n",
        "from datasets import load_dataset\n",
        "\n",
        "# loading wikipedia using HuggingFace\n",
        "wikipedia = load_dataset('wikipedia', '20220301.en', beam_runner='DirectRunner')\n",
        "\n",
        "# Searching for the New Zealand's wikipedia passage\n",
        "for passage in wikipedia['train']:\n",
        "  if passage['title'] == 'New Zealand':\n",
        "    new_zealand_passage = passage['text']\n",
        "    break\n",
        "\n",
        "# Breaking the passage into a corpus of sentences.\n",
        "corpus = new_zealand_passage.split('.')\n",
        "print(corpus)"
      ]
    },
    {
      "cell_type": "code",
      "execution_count": null,
      "metadata": {
        "id": "Hc6x4ORDjtH-"
      },
      "outputs": [],
      "source": [
        "# defining the query\n",
        "\n",
        "query = 'What is the capital of New Zealand?'"
      ]
    },
    {
      "cell_type": "code",
      "source": [
        "import numpy as np\n",
        "for i in np.argsort(np.array([np.sum(np.array([computeTFIDF(word, d, corpus) for word in query.split(\" \")])) for d in corpus]))[::-1][:3]:\n",
        "  print(corpus[i].strip())\n"
      ],
      "metadata": {
        "colab": {
          "base_uri": "https://localhost:8080/"
        },
        "id": "yOcy9CDpj5tb",
        "outputId": "1606bded-c39d-40b7-fa30-a55414ada58d"
      },
      "execution_count": null,
      "outputs": [
        {
          "output_type": "stream",
          "name": "stdout",
          "text": [
            "New Zealand's capital city is Wellington, and its most populous city is Auckland\n",
            "The South Island is the largest landmass of New Zealand\n",
            "Elizabeth II is the queen of New Zealand and thus the head of state\n"
          ]
        }
      ]
    }
  ],
  "metadata": {
    "colab": {
      "provenance": []
    },
    "kernelspec": {
      "display_name": "Python 3",
      "name": "python3"
    },
    "language_info": {
      "codemirror_mode": {
        "name": "ipython",
        "version": 3
      },
      "file_extension": ".py",
      "mimetype": "text/x-python",
      "name": "python",
      "nbconvert_exporter": "python",
      "pygments_lexer": "ipython3",
      "version": "3.10.5"
    },
    "accelerator": "GPU",
    "gpuClass": "standard"
  },
  "nbformat": 4,
  "nbformat_minor": 0
}