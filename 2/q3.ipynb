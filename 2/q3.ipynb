{
  "nbformat": 4,
  "nbformat_minor": 0,
  "metadata": {
    "anaconda-cloud": {},
    "kernelspec": {
      "display_name": "Python 3",
      "name": "python3"
    },
    "language_info": {
      "codemirror_mode": {
        "name": "ipython",
        "version": 3
      },
      "file_extension": ".py",
      "mimetype": "text/x-python",
      "name": "python",
      "nbconvert_exporter": "python",
      "pygments_lexer": "ipython3",
      "version": "3.8.0"
    },
    "pycharm": {
      "stem_cell": {
        "cell_type": "raw",
        "metadata": {
          "collapsed": false
        },
        "source": []
      }
    },
    "colab": {
      "provenance": [],
      "gpuType": "T4"
    },
    "accelerator": "GPU"
  },
  "cells": [
    {
      "cell_type": "markdown",
      "metadata": {
        "id": "XPKTqQ3W8qLt"
      },
      "source": [
        "To begin copy this notebook to your own drive:\n",
        "\n",
        "![image.png](data:image/png;base64,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)\n",
        "\n",
        "\n",
        "### Submission Instructions:\n",
        "1. **Restart the kernel** (in the menubar, select Runtime$\\rightarrow$Restart runtime)\n",
        "2. **Run all cells** (in the menubar, select Runtime$\\rightarrow$Run All).\n",
        "3. **Download the notebook** (in the menubar, select File$\\rightarrow$Download .ipynb)\n",
        "4. **Upload the downloaded notebook (.ipynb file) to your repository**.\n",
        "\n",
        "Note: To use a GPU, do the following: Runtime$\\rightarrow$Change runtime type$\\rightarrow$ GPU\n",
        "\n",
        "Make sure you fill in any place that says `YOUR CODE HERE`, and that no tests fail.  "
      ]
    },
    {
      "cell_type": "markdown",
      "metadata": {
        "deletable": false,
        "editable": false,
        "nbgrader": {
          "cell_type": "markdown",
          "checksum": "5493400e8b7f9a8e2cde874866d4fa7f",
          "grade": false,
          "grade_id": "cell-3a1bca1dbb7d0069",
          "locked": true,
          "schema_version": 3,
          "solution": false,
          "task": false
        },
        "id": "XvPkt7Zm8qLt"
      },
      "source": [
        "![shakespeare](https://i.imgur.com/81YZuel.jpg)\n",
        "\n",
        "# Generating Shakespeare Using a Character-level Language Model\n",
        "\n",
        "### From Words to Characters\n",
        "In the previous two sections we dealt with word-level language models. But looking again at section 2, there is nothing that constraints us to using _words_ as the basic elemnents in our model. The model we analyzed in section 2 could just as well be character-based - just replace \"word\" with \"character\", and you are good to go. In this notebook we will train a small character-based language model that will help us generate Shakespearean-like (emphasis on the _like_...) texts."
      ]
    },
    {
      "cell_type": "markdown",
      "metadata": {
        "deletable": false,
        "editable": false,
        "nbgrader": {
          "cell_type": "markdown",
          "checksum": "9af7a343d0e3524c3fd846d987d766a8",
          "grade": false,
          "grade_id": "cell-7301754e4d655d01",
          "locked": true,
          "schema_version": 3,
          "solution": false,
          "task": false
        },
        "id": "EvGyr_ux8qLt"
      },
      "source": [
        "### Question 3.a\n",
        "Can you think of an advantage a character-based language model could have over a word-based language model? And what about the other way around: can you think of an advantage a word-based language model could have over a character-based language model? (Add your answer to the final submission pdf)."
      ]
    },
    {
      "cell_type": "markdown",
      "source": [
        "* Character-based language model advantage: \n",
        "  1. It can generate or recognize words that are not present in the training vocabulary by composing them from known characters. This makes them more robust when dealing with rare or specialized terms that may not be present in the training data of a word-based model.\n",
        "  2. Better identifing and correcting misspaelled and typos. \n",
        "\n",
        "* Word-based language model advantage:\n",
        "  1. Not 'making up' words.\n",
        "  2. Better context and semantic Understanding: Word-based models capture the meaning of a text at a higher level of abstraction. MOre coherent and contextually appropriate responses.\n",
        "  3. Computational Efficiency: Word-based models are computationally more efficient than character-based models, as they deal with larger units of text.\n",
        "\n",
        "\n",
        "---\n",
        "\n"
      ],
      "metadata": {
        "id": "MSVV1rKYxdZF"
      }
    },
    {
      "cell_type": "markdown",
      "metadata": {
        "deletable": false,
        "editable": false,
        "nbgrader": {
          "cell_type": "markdown",
          "checksum": "d46a8dfd340b8f68e51a041307f7d7d3",
          "grade": false,
          "grade_id": "cell-ebc0d8ae3061c0fc",
          "locked": true,
          "schema_version": 3,
          "solution": false,
          "task": false
        },
        "id": "ghCevRFf8qLt"
      },
      "source": [
        "### Using PyTorch\n",
        "\n",
        "We'll build our language model using PyTorch. PyTorch is a [very popular](https://thegradient.pub/state-of-ml-frameworks-2019-pytorch-dominates-research-tensorflow-dominates-industry/) open-source machine learning (and deep learning) framework developed by Facebook. In short:\n",
        "\n",
        "> Pytorch is a Python-based scientific computing package targeted at two sets of audiences:\n",
        "* A replacement for NumPy to use the power of GPUs\n",
        "* A deep learning research platform that provides maximum flexibility and speed\n",
        "\n",
        "To get familiar with PyTorch, check out this [quick tutorial](https://pytorch.org/tutorials/beginner/blitz/tensor_tutorial.html). In addition, another imporant difference from numpy is that PyTorch can automatically calculate the gradients needed for backpropagation, as explained [here](https://pytorch.org/tutorials/beginner/blitz/autograd_tutorial.html)."
      ]
    },
    {
      "cell_type": "markdown",
      "metadata": {
        "deletable": false,
        "editable": false,
        "nbgrader": {
          "cell_type": "markdown",
          "checksum": "02af8a21a2e8fae58d84f915de5b016d",
          "grade": false,
          "grade_id": "cell-aa2773db1bef7014",
          "locked": true,
          "schema_version": 3,
          "solution": false,
          "task": false
        },
        "id": "MYd79g6k8qLt"
      },
      "source": [
        "### Preparing the Data\n",
        "\n",
        "Our dataset is a plain text file. For simplicity, we turn any potential unicode characters into plain ASCII by using the `unidecode` package."
      ]
    },
    {
      "cell_type": "code",
      "metadata": {
        "colab": {
          "base_uri": "https://localhost:8080/"
        },
        "id": "OT5WdSbsFT1K",
        "outputId": "469f6cd9-7ab5-48da-bbb1-d91069eca67d"
      },
      "source": [
        "!pip install unidecode"
      ],
      "execution_count": 1,
      "outputs": [
        {
          "output_type": "stream",
          "name": "stdout",
          "text": [
            "Looking in indexes: https://pypi.org/simple, https://us-python.pkg.dev/colab-wheels/public/simple/\n",
            "Collecting unidecode\n",
            "  Downloading Unidecode-1.3.6-py3-none-any.whl (235 kB)\n",
            "\u001b[2K     \u001b[90m━━━━━━━━━━━━━━━━━━━━━━━━━━━━━━━━━━━━━━\u001b[0m \u001b[32m235.9/235.9 kB\u001b[0m \u001b[31m16.6 MB/s\u001b[0m eta \u001b[36m0:00:00\u001b[0m\n",
            "\u001b[?25hInstalling collected packages: unidecode\n",
            "Successfully installed unidecode-1.3.6\n"
          ]
        }
      ]
    },
    {
      "cell_type": "code",
      "metadata": {
        "deletable": false,
        "editable": false,
        "nbgrader": {
          "cell_type": "code",
          "checksum": "ef0359e8c08b2057771c115150011e7e",
          "grade": false,
          "grade_id": "cell-cce75419c097f3fd",
          "locked": true,
          "schema_version": 3,
          "solution": false,
          "task": false
        },
        "pycharm": {
          "is_executing": false
        },
        "id": "RYqFoQgV8qLt",
        "colab": {
          "base_uri": "https://localhost:8080/"
        },
        "outputId": "07eeb09f-8e57-4691-af10-7b6da6f9a5bc"
      },
      "source": [
        "import string\n",
        "import random\n",
        "import re\n",
        "import requests\n",
        "import unidecode\n",
        "url = \"https://github.com/tau-nlp-course/NLP_HW2/raw/main/data/shakespeare.txt\"\n",
        "\n",
        "\n",
        "all_characters = string.printable\n",
        "n_characters = len(all_characters)  # our vocabulary size (|V| from the handout)\n",
        "\n",
        "dataset_as_string = unidecode.unidecode(requests.get(url).content.decode())\n",
        "n_chars_in_dataset = len(dataset_as_string)\n",
        "print(f'Total number of characters in our dataset: {n_chars_in_dataset}')"
      ],
      "execution_count": 2,
      "outputs": [
        {
          "output_type": "stream",
          "name": "stdout",
          "text": [
            "Total number of characters in our dataset: 1115394\n"
          ]
        }
      ]
    },
    {
      "cell_type": "code",
      "source": [
        "all_characters"
      ],
      "metadata": {
        "colab": {
          "base_uri": "https://localhost:8080/",
          "height": 36
        },
        "id": "VL8XHGmc1eFA",
        "outputId": "f33620d8-0c7c-4dc1-dfd9-e65ca09f50c1"
      },
      "execution_count": 3,
      "outputs": [
        {
          "output_type": "execute_result",
          "data": {
            "text/plain": [
              "'0123456789abcdefghijklmnopqrstuvwxyzABCDEFGHIJKLMNOPQRSTUVWXYZ!\"#$%&\\'()*+,-./:;<=>?@[\\\\]^_`{|}~ \\t\\n\\r\\x0b\\x0c'"
            ],
            "application/vnd.google.colaboratory.intrinsic+json": {
              "type": "string"
            }
          },
          "metadata": {},
          "execution_count": 3
        }
      ]
    },
    {
      "cell_type": "code",
      "source": [
        "print(dataset_as_string[:100])"
      ],
      "metadata": {
        "colab": {
          "base_uri": "https://localhost:8080/"
        },
        "id": "P_hXwaiu1vCI",
        "outputId": "50a5b4f1-7b32-45cd-8e2e-936646fff61b"
      },
      "execution_count": 4,
      "outputs": [
        {
          "output_type": "stream",
          "name": "stdout",
          "text": [
            "First Citizen:\n",
            "Before we proceed any further, hear me speak.\n",
            "\n",
            "All:\n",
            "Speak, speak.\n",
            "\n",
            "First Citizen:\n",
            "You\n"
          ]
        }
      ]
    },
    {
      "cell_type": "markdown",
      "metadata": {
        "deletable": false,
        "editable": false,
        "nbgrader": {
          "cell_type": "markdown",
          "checksum": "06dd2ac91a6296206475c7e330e53e3d",
          "grade": false,
          "grade_id": "cell-d795f907dd7922f3",
          "locked": true,
          "schema_version": 3,
          "solution": false,
          "task": false
        },
        "id": "mIctyT3J8qLu"
      },
      "source": [
        "To make inputs out of this big string of text, we will split it into chunks."
      ]
    },
    {
      "cell_type": "code",
      "metadata": {
        "deletable": false,
        "editable": false,
        "nbgrader": {
          "cell_type": "code",
          "checksum": "61947ad22fb7f16eba246d47ab8cae22",
          "grade": false,
          "grade_id": "cell-379f229536dae19b",
          "locked": true,
          "schema_version": 3,
          "solution": false,
          "task": false
        },
        "pycharm": {
          "is_executing": false
        },
        "id": "eoLs0ivz8qLu",
        "colab": {
          "base_uri": "https://localhost:8080/"
        },
        "outputId": "a221b1bd-c006-4fc3-e937-3922d3b4c8c2"
      },
      "source": [
        "chunk_len = 400\n",
        "\n",
        "def random_chunk():\n",
        "    start_index = random.randint(0, n_chars_in_dataset - chunk_len)\n",
        "    end_index = start_index + chunk_len + 1\n",
        "    return dataset_as_string[start_index:end_index]\n",
        "\n",
        "print(random_chunk())"
      ],
      "execution_count": 5,
      "outputs": [
        {
          "output_type": "stream",
          "name": "stdout",
          "text": [
            " mock at death\n",
            "With as big heart as thou. Do as thou list\n",
            "Thy valiantness was mine, thou suck'dst it from me,\n",
            "But owe thy pride thyself.\n",
            "\n",
            "CORIOLANUS:\n",
            "Pray, be content:\n",
            "Mother, I am going to the market-place;\n",
            "Chide me no more. I'll mountebank their loves,\n",
            "Cog their hearts from them, and come home beloved\n",
            "Of all the trades in Rome. Look, I am going:\n",
            "Commend me to my wife. I'll return consul;\n",
            "Or never\n"
          ]
        }
      ]
    },
    {
      "cell_type": "markdown",
      "metadata": {
        "deletable": false,
        "editable": false,
        "nbgrader": {
          "cell_type": "markdown",
          "checksum": "ba5d4900ff254fa335fe935962878c8d",
          "grade": false,
          "grade_id": "cell-fcbb2d73f4e442fb",
          "locked": true,
          "schema_version": 3,
          "solution": false,
          "task": false
        },
        "id": "ho8WlUcV8qLv"
      },
      "source": [
        "### Building Our Model\n",
        "\n",
        "Our model consists of three main components:\n",
        "\n",
        "1. [**Embedding**](https://pytorch.org/docs/stable/nn.html#embedding). A mapping between characters and their learned representations (\"word vectors\") \\[correspoding to ${\\boldsymbol L}$ in terms of the handout\\]\n",
        "2. [**GRU**](https://pytorch.org/docs/stable/nn.html#gru). \\[correspoding to the computation of ${\\boldsymbol h}^{(t)}$ in terms of the handout\\]\n",
        "3. **Output Layer**. A feed-forward neural network that transforms a hidden state at a timestep into a probability distribution of the next character. \\[correspoding to the computation of $\\hat{\\boldsymbol y}^{(t)}$ in terms of the handout\\] "
      ]
    },
    {
      "cell_type": "markdown",
      "metadata": {
        "id": "KFm8g2pd8qLv"
      },
      "source": [
        "### Question 3.b\n",
        "Complete the implementation of the `forward` method of our model."
      ]
    },
    {
      "cell_type": "code",
      "metadata": {
        "deletable": false,
        "nbgrader": {
          "cell_type": "code",
          "checksum": "a9ad1239fcd5aec23f439249397895ec",
          "grade": false,
          "grade_id": "cell-1640492438386e87",
          "locked": false,
          "schema_version": 3,
          "solution": true,
          "task": false
        },
        "pycharm": {
          "is_executing": false
        },
        "id": "2SoCQ_ZM8qLv"
      },
      "source": [
        "import torch\n",
        "import torch.nn as nn\n",
        "from torch.autograd import Variable\n",
        "\n",
        "class OurModel(nn.Module):\n",
        "    def __init__(self, input_size, hidden_size, output_size, num_layers=1):\n",
        "        super(OurModel, self).__init__()\n",
        "        self.input_size = input_size # 100\n",
        "        self.hidden_size = hidden_size # 100\n",
        "        self.output_size = output_size # 100\n",
        "        self.num_layers = num_layers # 1\n",
        "        \n",
        "        self.embedding = nn.Embedding(input_size, hidden_size)  # In the terms of the handout, here d = D_h\n",
        "        self.gru = nn.GRU(hidden_size, hidden_size, num_layers)\n",
        "        self.output_layer = nn.Linear(hidden_size, output_size)\n",
        "    \n",
        "    def forward(self, input_, hidden):\n",
        "        # General instructions:\n",
        "        # Pass the embedded input through the GRU and use the output layer to get the next character distribution.\n",
        "        # return that distribution and the next hidden state.\n",
        "        # You may need to play around with the dimensions a bit until you get it right. Dimension-induced frustration is good for you!\n",
        "        # -------------------------\n",
        "        # YOUR CODE HERE\n",
        "        embedded = self.embedding(input_).view(1, 1, -1)\n",
        "        output, hidden = self.gru(embedded, hidden)\n",
        "        output = self.output_layer(output.view(1, -1))\n",
        "        # -------------------------\n",
        "        return output, hidden\n",
        "\n",
        "    def init_hidden(self):\n",
        "        return Variable(torch.zeros(self.num_layers, 1, self.hidden_size))"
      ],
      "execution_count": 6,
      "outputs": []
    },
    {
      "cell_type": "markdown",
      "metadata": {
        "deletable": false,
        "editable": false,
        "nbgrader": {
          "cell_type": "markdown",
          "checksum": "da793a49917dc4882e7e70f04d07a777",
          "grade": false,
          "grade_id": "cell-b9299fddeb082b4e",
          "locked": true,
          "schema_version": 3,
          "solution": false,
          "task": false
        },
        "id": "aZWMbY1o8qLv"
      },
      "source": [
        "### Creating the Training Examples"
      ]
    },
    {
      "cell_type": "markdown",
      "metadata": {
        "deletable": false,
        "editable": false,
        "nbgrader": {
          "cell_type": "markdown",
          "checksum": "f6eaeb80c370b32f26eda2ac1be57444",
          "grade": false,
          "grade_id": "cell-83bf9e1b0374206c",
          "locked": true,
          "schema_version": 3,
          "solution": false,
          "task": false
        },
        "id": "B-ngTV6Q8qLv"
      },
      "source": [
        "Each chunk will be turned into a tensor by looping through the characters of the string and looking up the index of each character in `all_characters`."
      ]
    },
    {
      "cell_type": "code",
      "metadata": {
        "deletable": false,
        "editable": false,
        "nbgrader": {
          "cell_type": "code",
          "checksum": "cc87bca342db2fde1b3957f48bcfe857",
          "grade": false,
          "grade_id": "cell-5360afdd0b03b1f4",
          "locked": true,
          "schema_version": 3,
          "solution": false,
          "task": false
        },
        "pycharm": {
          "is_executing": false
        },
        "id": "98wyNtkw8qLv",
        "colab": {
          "base_uri": "https://localhost:8080/"
        },
        "outputId": "0973af90-77ed-452d-e98a-c71a8a11a965"
      },
      "source": [
        "# Turn a string into list of longs\n",
        "def chars_to_tensor(string):\n",
        "    tensor = torch.zeros(len(string)).long()\n",
        "    for c in range(len(string)):\n",
        "        tensor[c] = all_characters.index(string[c])\n",
        "    return Variable(tensor)\n",
        "\n",
        "print(chars_to_tensor('abcDEF'))"
      ],
      "execution_count": 7,
      "outputs": [
        {
          "output_type": "stream",
          "name": "stdout",
          "text": [
            "tensor([10, 11, 12, 39, 40, 41])\n"
          ]
        }
      ]
    },
    {
      "cell_type": "markdown",
      "metadata": {
        "deletable": false,
        "editable": false,
        "nbgrader": {
          "cell_type": "markdown",
          "checksum": "f7fab2aa0d22a697fcc3d675b1821875",
          "grade": false,
          "grade_id": "cell-6e7b3d9e8c9396bb",
          "locked": true,
          "schema_version": 3,
          "solution": false,
          "task": false
        },
        "id": "cYh_R1K88qLv"
      },
      "source": [
        "Now we can assemble a pair of input and target tensors (i.e. a single training example) for training, from a random chunk. The input will be all characters *except the last*, and the target will be all characters *except the first*. So if our chunk is \"abc\" the input will correspond to \"ab\" while the target is \"bc\"."
      ]
    },
    {
      "cell_type": "code",
      "metadata": {
        "deletable": false,
        "editable": false,
        "nbgrader": {
          "cell_type": "code",
          "checksum": "adf90d7ec6728b2f45d1e8de5c47203c",
          "grade": false,
          "grade_id": "cell-d3539c5f1d96a188",
          "locked": true,
          "schema_version": 3,
          "solution": false,
          "task": false
        },
        "pycharm": {
          "is_executing": false
        },
        "id": "QFDYhW3a8qLv"
      },
      "source": [
        "def random_training_set():    \n",
        "    chunk = random_chunk()\n",
        "    inp = chars_to_tensor(chunk[:-1])\n",
        "    target = chars_to_tensor(chunk[1:])\n",
        "    return inp, target"
      ],
      "execution_count": 8,
      "outputs": []
    },
    {
      "cell_type": "markdown",
      "metadata": {
        "deletable": false,
        "editable": false,
        "nbgrader": {
          "cell_type": "markdown",
          "checksum": "18a6bf800d9bc590739b15ba01dda408",
          "grade": false,
          "grade_id": "cell-16d13f3b273395ac",
          "locked": true,
          "schema_version": 3,
          "solution": false,
          "task": false
        },
        "id": "eU6VTX8F8qLv"
      },
      "source": [
        "### Evaluating\n",
        "\n",
        "To evaluate the network we will feed one character at a time, use the outputs of the network as a probability distribution for the next character, and repeat. To start generation we pass a priming string to start building up the hidden state, from which we then generate one character at a time."
      ]
    },
    {
      "cell_type": "code",
      "metadata": {
        "deletable": false,
        "editable": false,
        "nbgrader": {
          "cell_type": "code",
          "checksum": "a47c721a818979b886f119401206e756",
          "grade": false,
          "grade_id": "cell-44ab27a8fee696ad",
          "locked": true,
          "schema_version": 3,
          "solution": false,
          "task": false
        },
        "pycharm": {
          "is_executing": false
        },
        "id": "xeoACNc78qLv"
      },
      "source": [
        "import torch.nn.functional as F\n",
        "\n",
        "def evaluate(prime_str='A', predict_len=100, temperature=0.8):\n",
        "    hidden = model.init_hidden()\n",
        "    prime_input = chars_to_tensor(prime_str)\n",
        "    predicted = prime_str\n",
        "\n",
        "    # Use priming string to \"build up\" hidden state\n",
        "    for p in range(len(prime_str) - 1):\n",
        "        _, hidden = model(prime_input[p], hidden)\n",
        "    inp = prime_input[-1]\n",
        "    \n",
        "    for p in range(predict_len):\n",
        "        output, hidden = model(inp, hidden)\n",
        "        \n",
        "        # Sample from the network as a multinomial distribution\n",
        "        output_dist =  F.softmax(output / temperature, dim=-1)\n",
        "        top_i = torch.multinomial(output_dist, 1)[0]\n",
        "        \n",
        "        # Add predicted character to string and use as next input\n",
        "        predicted_char = all_characters[top_i]\n",
        "        predicted += predicted_char\n",
        "        inp = chars_to_tensor(predicted_char)\n",
        "\n",
        "    return predicted"
      ],
      "execution_count": 9,
      "outputs": []
    },
    {
      "cell_type": "markdown",
      "metadata": {
        "deletable": false,
        "editable": false,
        "nbgrader": {
          "cell_type": "markdown",
          "checksum": "3fffa10554299eaae14cc007fea3935a",
          "grade": false,
          "grade_id": "cell-1d3fd015fe8f64d1",
          "locked": true,
          "schema_version": 3,
          "solution": false,
          "task": false
        },
        "id": "iNmsUvyM8qLv"
      },
      "source": [
        "### Training"
      ]
    },
    {
      "cell_type": "markdown",
      "metadata": {
        "deletable": false,
        "editable": false,
        "nbgrader": {
          "cell_type": "markdown",
          "checksum": "8a98218b35f47137eeba1ba1aead0700",
          "grade": false,
          "grade_id": "cell-a209b293a8850a57",
          "locked": true,
          "schema_version": 3,
          "solution": false,
          "task": false
        },
        "id": "AiCVg5Ec8qLv"
      },
      "source": [
        "The main training function"
      ]
    },
    {
      "cell_type": "code",
      "metadata": {
        "deletable": false,
        "editable": false,
        "nbgrader": {
          "cell_type": "code",
          "checksum": "eb3bfcd4d49b2f2672447d8c65b6cb05",
          "grade": false,
          "grade_id": "cell-e246cbd9689e1a6d",
          "locked": true,
          "schema_version": 3,
          "solution": false,
          "task": false
        },
        "pycharm": {
          "is_executing": false
        },
        "id": "Wug0q2Me8qLv"
      },
      "source": [
        "def train(inp, target):\n",
        "    hidden = model.init_hidden()\n",
        "    model.zero_grad()\n",
        "    loss = 0\n",
        "\n",
        "    for c in range(chunk_len):\n",
        "        output, hidden = model(inp[c], hidden)\n",
        "        loss += criterion(output, target[c].view(-1))\n",
        "\n",
        "    loss.backward()\n",
        "    optimizer.step()\n",
        "\n",
        "    return loss.item() / chunk_len"
      ],
      "execution_count": 10,
      "outputs": []
    },
    {
      "cell_type": "markdown",
      "metadata": {
        "deletable": false,
        "editable": false,
        "nbgrader": {
          "cell_type": "markdown",
          "checksum": "bfb863e279db4b170c35d8d0c7a37a1f",
          "grade": false,
          "grade_id": "cell-05ce9b9275e0d1cc",
          "locked": true,
          "schema_version": 3,
          "solution": false,
          "task": false
        },
        "id": "hFBSiQqS8qLv"
      },
      "source": [
        "A helper to print the amount of time passed:"
      ]
    },
    {
      "cell_type": "code",
      "metadata": {
        "deletable": false,
        "editable": false,
        "nbgrader": {
          "cell_type": "code",
          "checksum": "16d7b53f211a6a1bef71c1dd2d1271cf",
          "grade": false,
          "grade_id": "cell-cb78afef7022f9a1",
          "locked": true,
          "schema_version": 3,
          "solution": false,
          "task": false
        },
        "pycharm": {
          "is_executing": false
        },
        "id": "vIzUAL-a8qLv"
      },
      "source": [
        "import time, math\n",
        "\n",
        "def time_since(since):\n",
        "    s = time.time() - since\n",
        "    m = math.floor(s / 60)\n",
        "    s -= m * 60\n",
        "    return f'{m}m {math.floor(s)}s'"
      ],
      "execution_count": 11,
      "outputs": []
    },
    {
      "cell_type": "code",
      "metadata": {
        "deletable": false,
        "editable": false,
        "nbgrader": {
          "cell_type": "code",
          "checksum": "2b368f1767ddd0eddca44249fa47ed32",
          "grade": true,
          "grade_id": "cell-98f46bec0b8c87cc",
          "locked": true,
          "points": 10,
          "schema_version": 3,
          "solution": false,
          "task": false
        },
        "id": "pAlXhasn8qLv"
      },
      "source": [
        "# DO NOT DELETE THIS CELL\n"
      ],
      "execution_count": 12,
      "outputs": []
    },
    {
      "cell_type": "markdown",
      "metadata": {
        "deletable": false,
        "editable": false,
        "nbgrader": {
          "cell_type": "markdown",
          "checksum": "98abd7dd7805753c2e7b635f1265cb73",
          "grade": false,
          "grade_id": "cell-baf25642209867dc",
          "locked": true,
          "schema_version": 3,
          "solution": false,
          "task": false
        },
        "id": "0Xva5o5I8qLv"
      },
      "source": [
        "Define the training parameters, instantiate the model, and start training:"
      ]
    },
    {
      "cell_type": "code",
      "metadata": {
        "deletable": false,
        "editable": false,
        "nbgrader": {
          "cell_type": "code",
          "checksum": "ab44452ad9f838e0b56e1fc154ab6125",
          "grade": false,
          "grade_id": "cell-4900f92ae503be69",
          "locked": true,
          "schema_version": 3,
          "solution": false,
          "task": false
        },
        "pycharm": {
          "is_executing": false
        },
        "id": "pRLHP-UQ8qLw",
        "colab": {
          "base_uri": "https://localhost:8080/"
        },
        "outputId": "13003980-b703-4156-8765-d9d0afbad904"
      },
      "source": [
        "n_epochs = 2000\n",
        "print_every = 100\n",
        "plot_every = 10\n",
        "hidden_size = 100  # (D_h from the handout)\n",
        "num_layers = 1\n",
        "lr = 0.005\n",
        "\n",
        "model = OurModel(n_characters, hidden_size, n_characters, num_layers)\n",
        "optimizer = torch.optim.Adam(model.parameters(), lr=lr)\n",
        "criterion = nn.CrossEntropyLoss()\n",
        "\n",
        "start = time.time()\n",
        "all_losses = []\n",
        "loss_avg = 0\n",
        "\n",
        "for epoch in range(1, n_epochs + 1):\n",
        "    loss = train(*random_training_set())\n",
        "    loss_avg += loss\n",
        "\n",
        "    if epoch % print_every == 0:\n",
        "        print(f'[time elapsed: {time_since(start)}  ;  epochs: {epoch} ({epoch / n_epochs * 100}%)  ;  loss: {loss:.4}]')\n",
        "        print(evaluate('Wh', 200), '\\n')  # generate text starting with 'Wh'\n",
        "\n",
        "    if epoch % plot_every == 0:\n",
        "        all_losses.append(loss_avg / plot_every)\n",
        "        loss_avg = 0"
      ],
      "execution_count": 13,
      "outputs": [
        {
          "output_type": "stream",
          "name": "stdout",
          "text": [
            "[time elapsed: 0m 34s  ;  epochs: 100 (5.0%)  ;  loss: 2.127]\n",
            "Whach.\n",
            "\n",
            "LDARAAMTORTI IjIA:\n",
            "\n",
            "Sow mither coolt\n",
            "Whis mars mis mars muste ate coint't wilwt thime aspardkemand cone.\n",
            "\n",
            "INIUTy thom of hay the a weat nood thome the det houst were of what thou sole thay shis  \n",
            "\n",
            "[time elapsed: 1m 0s  ;  epochs: 200 (10.0%)  ;  loss: 2.04]\n",
            "Whut beby ther to sall am much.\n",
            "\n",
            "QUEELA:\n",
            "But a sa se cencer and your rendet yeert deaat dias bemmy,\n",
            "bothee.\n",
            "\n",
            "CINIO:\n",
            "This and his a lede land a lover makie, ix stone for be\n",
            "Thou sare have me, for her but \n",
            "\n",
            "[time elapsed: 1m 26s  ;  epochs: 300 (15.0%)  ;  loss: 2.063]\n",
            "Whightrou for thing hand cany so.\n",
            "\n",
            "BUCIO:\n",
            "Who hear heir thou him shad more you hike have no his thould guled.\n",
            "\n",
            "GLUCESTI:\n",
            "I what I poringoos what a her hain may,\n",
            "And if an garcho her his a ablour of his  \n",
            "\n",
            "[time elapsed: 1m 53s  ;  epochs: 400 (20.0%)  ;  loss: 1.944]\n",
            "Whese treaceco\n",
            "Sen histarderuchion he the seelf it ratce\n",
            "for arstiast efortinge.\n",
            "\n",
            "POME:\n",
            "That for he fier all realy say to more? Cand to be alord his himp.\n",
            "\n",
            "ALIO:\n",
            "Thour so more deace he fail in our poso. \n",
            "\n",
            "[time elapsed: 2m 20s  ;  epochs: 500 (25.0%)  ;  loss: 1.753]\n",
            "Wh' thic the grais but thee as man:\n",
            "That leffee: the shand foolillous in with thee the dustes the geard her Prold,\n",
            "But mank speaks the grim must of coursin the blosone speak fithing but that forther,\n",
            "An \n",
            "\n",
            "[time elapsed: 2m 46s  ;  epochs: 600 (30.0%)  ;  loss: 1.947]\n",
            "Where trus\n",
            "Thon mure surpien and in my stask Lrow stade.\n",
            "I we the warather for the pant bane to home,\n",
            "On well nelf the so to madare.\n",
            "\n",
            "WERCUOTIO:\n",
            "All good nighty, him. Yo do meath the man their the sours \n",
            "\n",
            "[time elapsed: 3m 13s  ;  epochs: 700 (35.0%)  ;  loss: 2.038]\n",
            "Whcarse, a purty\n",
            "The Grown, sexing and best mouse, fort fornest not that and 'ting so.\n",
            "\n",
            "TRANET:\n",
            "Like that and for piss. Thow it, my learsing a dewerd\n",
            "We's the dose, host abainst, whore dued, there'st fo \n",
            "\n",
            "[time elapsed: 3m 40s  ;  epochs: 800 (40.0%)  ;  loss: 1.784]\n",
            "Wh, What shall wartie be hath your master\n",
            "To stam his you, worsh him, surrng fairth,\n",
            "Whid how my king, thippporer's be jfear.\n",
            "\n",
            "PRINCENTIO:\n",
            "Ed the swors my shall by him wheir a but doown or forgrow,\n",
            "Thin \n",
            "\n",
            "[time elapsed: 4m 7s  ;  epochs: 900 (45.0%)  ;  loss: 2.08]\n",
            "What with thewept theno tear;\n",
            "And the broth, would pemin:\n",
            "Thou deprue lord no are if the prings, wuth, their sire one him:\n",
            "If eate will my killes, beges a kingbing preciuen,\n",
            "Hows in I for the comperdes, \n",
            "\n",
            "[time elapsed: 4m 34s  ;  epochs: 1000 (50.0%)  ;  loss: 1.632]\n",
            "What sell not oply but shread.\n",
            "\n",
            "COMIO:\n",
            "Nown seed fal of rand me lords, if them?\n",
            "\n",
            "PRCINGORE:\n",
            "Thou invelly recest the grarm, how if the\n",
            "strak of here that will undam\n",
            "Look lown from him.\n",
            "In surd encar and  \n",
            "\n",
            "[time elapsed: 5m 0s  ;  epochs: 1100 (55.00000000000001%)  ;  loss: 1.618]\n",
            "Wherre the waymise his both, Keen's henser.\n",
            "\n",
            "CAMINA:\n",
            "O, what a I Seits well when, I down if lear as go the some\n",
            "As he, I have curse, a was you we with son's eand and you not a my:\n",
            "Giantser on so loke is \n",
            "\n",
            "[time elapsed: 5m 27s  ;  epochs: 1200 (60.0%)  ;  loss: 1.83]\n",
            "What a them,\n",
            "And offlipless plainst in maks onters a sorreming love\n",
            "Then thing and and the loke ecleak, the for the well\n",
            "To death the do Sinthing as poary this speaks stocks,\n",
            "Richman the weint it not no \n",
            "\n",
            "[time elapsed: 5m 54s  ;  epochs: 1300 (65.0%)  ;  loss: 1.794]\n",
            "Where?\n",
            "\n",
            "BUCKINGHA:\n",
            "Come, not hone be's's to lord als that the cnopers,\n",
            "And our prove greaj as this creace on\n",
            "Whose thee almoo's make a looks a not the hear of lord!\n",
            "I and lord, shat like to placious as  \n",
            "\n",
            "[time elapsed: 6m 26s  ;  epochs: 1400 (70.0%)  ;  loss: 1.678]\n",
            "Where look it spoth me tood\n",
            "And aftoled, the parderfelgard, and me! have foul for mine aftored\n",
            "More of tot a not pears,\n",
            "When not, my greated and your comes as make made we hands\n",
            "I may to to than here hi \n",
            "\n",
            "[time elapsed: 6m 52s  ;  epochs: 1500 (75.0%)  ;  loss: 1.505]\n",
            "Wher were now your life,\n",
            "And thou a shall the neart; you, here, as bence thou they helpon\n",
            "unced not for the sir,\n",
            "Bing assent our as and this to to anwant the ones,\n",
            "Suty man state you brear beggaring you \n",
            "\n",
            "[time elapsed: 7m 19s  ;  epochs: 1600 (80.0%)  ;  loss: 1.483]\n",
            "What say's for all pearce, witland.\n",
            "\n",
            "MILNA:\n",
            "Whou did them, are the liffort,\n",
            "And for this recesce and Shide;\n",
            "With the him it the hold, for of mister.\n",
            "\n",
            "Providia:\n",
            "A tore, hath's have ale the words\n",
            "Seagents \n",
            "\n",
            "[time elapsed: 7m 46s  ;  epochs: 1700 (85.0%)  ;  loss: 1.813]\n",
            "Where rou, as with desire the right?\n",
            "But bither is then so beging:\n",
            "No lain, and you.\n",
            "\n",
            "KING RICHARD IV:\n",
            "In it the comter be he is liffee for need.\n",
            "\n",
            "VOLUMNIUS:\n",
            "What a last of it news a name,\n",
            "But in the co \n",
            "\n",
            "[time elapsed: 8m 12s  ;  epochs: 1800 (90.0%)  ;  loss: 1.775]\n",
            "What come be the good thour way:\n",
            "Or that with and stranged, and speak Husion cannoruse.\n",
            "\n",
            "CORIOLANUS:\n",
            "Beling your reppumon I the cropper conse\n",
            "Mern hoth to there. Shall anstace in the face art is of\n",
            "As q \n",
            "\n",
            "[time elapsed: 8m 39s  ;  epochs: 1900 (95.0%)  ;  loss: 1.747]\n",
            "Whyselfey same mark\n",
            "That all me to their colder spow,\n",
            "And which, he see we have be reven.\n",
            "\n",
            "LADY HENCENTHEY:\n",
            "Neet them on thy by looks.\n",
            "\n",
            "Nour I dusher:\n",
            "O should my lutter sir, then meether so.\n",
            "\n",
            "ROMEO:\n",
            "Wh \n",
            "\n",
            "[time elapsed: 9m 6s  ;  epochs: 2000 (100.0%)  ;  loss: 1.717]\n",
            "Whather life.\n",
            "\n",
            "BUCKINGHAM:\n",
            "The should young I cause by pards:\n",
            "Sword have man it our we kink is himsobly\n",
            "Be: I were some me kis for daughes the lady\n",
            "As she is the will dend's sith the kile digh. I depece \n",
            "\n"
          ]
        }
      ]
    },
    {
      "cell_type": "markdown",
      "metadata": {
        "deletable": false,
        "editable": false,
        "nbgrader": {
          "cell_type": "markdown",
          "checksum": "8584d3be75d90a5197e7133411e0021d",
          "grade": false,
          "grade_id": "cell-ff9d72dafefa0a23",
          "locked": true,
          "schema_version": 3,
          "solution": false,
          "task": false
        },
        "id": "dXeVkk298qLw"
      },
      "source": [
        "### Training Loss\n",
        "\n",
        "Plotting the the losses that were computed during training can provide a further indication that the network was indeed learning (Add your plot to the final submission pdf)."
      ]
    },
    {
      "cell_type": "code",
      "metadata": {
        "deletable": false,
        "editable": false,
        "nbgrader": {
          "cell_type": "code",
          "checksum": "357a8a13a77f5e3b3e336e022dc596d4",
          "grade": false,
          "grade_id": "cell-f91bb597844b8f7d",
          "locked": true,
          "schema_version": 3,
          "solution": false,
          "task": false
        },
        "pycharm": {
          "is_executing": false
        },
        "id": "S2SZanbV8qLw",
        "colab": {
          "base_uri": "https://localhost:8080/",
          "height": 468
        },
        "outputId": "c25c4d16-9941-4f49-ae74-e807c8c697b8"
      },
      "source": [
        "import matplotlib.pyplot as plt\n",
        "%matplotlib inline\n",
        "\n",
        "plt.grid(True)\n",
        "plt.xlabel('# of epochs (divided by plot_every)')\n",
        "plt.ylabel('average loss')\n",
        "plt.plot(all_losses)"
      ],
      "execution_count": 14,
      "outputs": [
        {
          "output_type": "execute_result",
          "data": {
            "text/plain": [
              "[<matplotlib.lines.Line2D at 0x7f32d49dfe80>]"
            ]
          },
          "metadata": {},
          "execution_count": 14
        },
        {
          "output_type": "display_data",
          "data": {
            "text/plain": [
              "<Figure size 640x480 with 1 Axes>"
            ],
            "image/png": "[encoded data removed]"
          },
          "metadata": {}
        }
      ]
    },
    {
      "cell_type": "code",
      "source": [
        "import numpy as np\n",
        "def evaluate_perplexity(text, model):\n",
        "    perplexity = 0\n",
        "    hidden = model.init_hidden()\n",
        "    text = chars_to_tensor(text)\n",
        "    for c in range(len(text) - 1):\n",
        "        output, hidden = model(text[c], hidden)\n",
        "        perplexity += criterion(output, text[c + 1].view(-1)).item()\n",
        "    perplexity /= (len(text) - 1)\n",
        "    return np.exp(perplexity)"
      ],
      "metadata": {
        "id": "EaMVNil6d_s_"
      },
      "execution_count": 15,
      "outputs": []
    },
    {
      "cell_type": "code",
      "source": [
        "shak = \"\"\"\n",
        "I shall lack voice: the deeds of Coriolanus\n",
        "Should not be utter'd feebly. It is held\n",
        "That valour is the chiefest virtue, and\n",
        "Most dignifies the haver: if it be,\n",
        "The man I speak of cannot in the world\n",
        "Be singly counterpoised. At sixteen years,\n",
        "When Tarquin made a head for Rome, he fought\n",
        "Beyond the mark of others: our then dictator,\n",
        "Whom with all praise I point at, saw him fight,\n",
        "When with his Amazonian chin he drove\n",
        "The bristled lips before him: be bestrid\n",
        "An o'er-press'd Roman and i' the consul's view\n",
        "Slew three opposers: Tarquin's self he met,\n",
        "And struck him on his knee: in that day's feats,\n",
        "When he might act the woman in the scene,\n",
        "He proved best man i' the field, and for his meed\n",
        "Was brow-bound with the oak. His pupil age\n",
        "Man-enter'd thus, he waxed like a sea,\n",
        "And in the brunt of seventeen battles since\n",
        "He lurch'd all swords of the garland. For this last,\n",
        "Before and in Corioli, let me say,\n",
        "I cannot speak him home: he stopp'd the fliers;\n",
        "And by his rare example made the coward\n",
        "Turn terror into sport: as weeds before\n",
        "A vessel under sail, so men obey'd\n",
        "And fell below his stem: his sword, death's stamp,\n",
        "Where it did mark, it took; from face to foot\n",
        "He was a thing of blood, whose every motion\n",
        "Was timed with dying cries: alone he enter'd\n",
        "The mortal gate of the city, which he painted\n",
        "With shunless destiny; aidless came off,\n",
        "And with a sudden reinforcement struck\n",
        "Corioli like a planet: now all's his:\n",
        "When, by and by, the din of war gan pierce\n",
        "His ready sense; then straight his doubled spirit\n",
        "Re-quicken'd what in flesh was fatigate,\n",
        "And to the battle came he; where he did\n",
        "Run reeking o'er the lives of men, as if\n",
        "'Twere a perpetual spoil: and till we call'd\n",
        "Both field and city ours, he never stood\n",
        "To ease his breast with panting.\n",
        "\"\"\""
      ],
      "metadata": {
        "id": "jnRLAfzXb9s-"
      },
      "execution_count": 16,
      "outputs": []
    },
    {
      "cell_type": "code",
      "source": [
        "wiki =\"\"\"\n",
        "New Zealand is one of the last major landmasses settled by humans. Radiocarbon dating, evidence of deforestation and mitochondrial DNA variability within Māori populations suggest that Eastern Polynesians first settled the New Zealand archipelago between 1250 and 1300, although newer archaeological and genetic research points to a date no earlier than about 1280, with at least the main settlement period between about 1320 and 1350, consistent with evidence based on genealogical traditions. This represented a culmination in a long series of voyages through the Pacific islands. Over the centuries that followed, the Polynesian settlers developed a distinct culture now known as Māori. The population formed different  (tribes) and  (subtribes) which would sometimes cooperate, sometimes compete and sometimes fight against each other. At some point, a group of Māori migrated to , now known as the Chatham Islands, where they developed their distinct Moriori culture. The Moriori population was all but wiped out between 1835 and 1862 in the Moriori genocide, largely because of Taranaki Māori invasion and enslavement in the 1830s, although European diseases also contributed. In 1862, only 101 survived, and the last known full-blooded Moriori died in 1933.\n",
        "\n",
        "In a hostile 1642 encounter between Ngāti Tūmatakōkiri and Dutch explorer Abel Tasman's crew, four of Tasman's crew members were killed, and at least one Māori was hit by canister shot. Europeans did not revisit New Zealand until 1769, when British explorer James Cook mapped almost the entire coastline. Following Cook, New Zealand was visited by numerous European and North American whaling, sealing, and trading ships. They traded European food, metal tools, weapons, and other goods for timber, Māori food, artefacts, and water. The introduction of the potato and the musket transformed Māori agriculture and warfare. Potatoes provided a reliable food surplus, which enabled longer and more sustained military campaigns. The resulting intertribal Musket Wars encompassed over 600 battles between 1801 and 1840, killing 30,000–40,000 Māori. From the early 19th century, Christian missionaries began to settle New Zealand, eventually converting most of the Māori population. The Māori population declined to around 40% of its pre-contact level during the 19th century; introduced diseases were the major factor.\n",
        "\n",
        "The British Government appointed James Busby as British Resident to New Zealand in 1832 following a petition from northern Māori. His duties were to protect British commerce, mediate between the unruly Pākehā (European) settlers and Māori, and to apprehend escaped convicts. In 1835, following an announcement of impending French settlement by Charles de Thierry, the nebulous United Tribes of New Zealand sent a Declaration of Independence to King William IV of the United Kingdom asking for protection. Ongoing unrest, the proposed settlement of New Zealand by the New Zealand Company (which had already sent its first ship of surveyors to buy land from Māori) and the dubious legal standing of the Declaration of Independence prompted the Colonial Office to send Captain William Hobson to claim sovereignty for the United Kingdom and negotiate a treaty with the Māori. The Treaty of Waitangi was first signed in the Bay of Islands on 6 February 1840. In response to the New Zealand Company's attempts to establish an independent settlement in Wellington and French settlers purchasing land in Akaroa, Hobson declared British sovereignty over all of New Zealand on 21 May 1840, even though copies of the treaty were still circulating throughout the country for Māori to sign. With the signing of the treaty and declaration of sovereignty, the number of immigrants, particularly from the United Kingdom, began to increase.\n",
        "\n",
        "New Zealand was administered as part of the Colony of New South Wales until becoming a separate Crown colony, the Colony of New Zealand on 3 May 1841. Armed conflict began between the colonial government and Māori in 1843 with the Wairau Affray over land and disagreements over sovereignty. These conflicts, mainly in the North Island, saw thousands of imperial troops and the Royal Navy come to New Zealand and became known as the New Zealand Wars. Following these armed conflicts, large amounts of Māori land was confiscated by the government to meet settler demands.\n",
        "\n",
        "The colony gained a representative government in 1852, and the first Parliament met in 1854. In 1856 the colony effectively became self-governing, gaining responsibility over all domestic matters (except native policy, which was granted in the mid-1860s). Following concerns that the South Island might form a separate colony, premier Alfred Domett moved a resolution to transfer the capital from Auckland to a locality near Cook Strait. Wellington was chosen for its central location, with Parliament officially sitting there for the first time in 1865.\n",
        "\n",
        "In 1891 the Liberal Party came to power as the first organised political party. The Liberal Government, led by Richard Seddon for most of its period in office, passed many important social and economic measures. In 1893 New Zealand was the first nation in the world to grant all women the right to vote and in 1894 pioneered the adoption of compulsory arbitration between employers and unions.\n",
        "\n",
        "In 1907, at the request of the New Zealand Parliament, King Edward VII proclaimed New Zealand a Dominion within the British Empire, reflecting its self-governing status. In 1947 the country adopted the Statute of Westminster, confirming that the British Parliament could no longer legislate for New Zealand without the consent of New Zealand.\n",
        "\n",
        "Early in the 20th century, New Zealand was involved in world affairs, fighting in the First and Second World Wars and suffering through the Great Depression. The depression led to the election of the first Labour Government and the establishment of a comprehensive welfare state and a protectionist economy. New Zealand experienced increasing prosperity following the Second World War, and Māori began to leave their traditional rural life and move to the cities in search of work. A Māori protest movement developed, which criticised Eurocentrism and worked for greater recognition of Māori culture and of the Treaty of Waitangi. In 1975, a Waitangi Tribunal was set up to investigate alleged breaches of the Treaty, and it was enabled to investigate historic grievances in 1985. The government has negotiated settlements of these grievances with many iwi, although Māori claims to the foreshore and seabed proved controversial in the 2000s.\n",
        "\"\"\""
      ],
      "metadata": {
        "id": "hgHYj2oIcJQl"
      },
      "execution_count": 17,
      "outputs": []
    },
    {
      "cell_type": "code",
      "source": [
        "dataset_as_string_shak = unidecode.unidecode(shak)\n",
        "n_chars_in_dataset_shak = len(dataset_as_string_shak)\n",
        "print(f'Total number of characters in our dataset: {n_chars_in_dataset_shak}')"
      ],
      "metadata": {
        "colab": {
          "base_uri": "https://localhost:8080/"
        },
        "id": "b3DN_J1ucoLP",
        "outputId": "5cd9a69e-9f46-45db-9be2-32ea357719b9"
      },
      "execution_count": 22,
      "outputs": [
        {
          "output_type": "stream",
          "name": "stdout",
          "text": [
            "Total number of characters in our dataset: 1755\n"
          ]
        }
      ]
    },
    {
      "cell_type": "code",
      "source": [
        "dataset_as_string_wiki = unidecode.unidecode(wiki)\n",
        "n_chars_in_dataset_wiki = len(dataset_as_string_wiki)\n",
        "print(f'Total number of characters in our dataset: {n_chars_in_dataset_wiki}')"
      ],
      "metadata": {
        "colab": {
          "base_uri": "https://localhost:8080/"
        },
        "id": "-dJ1zq10dnG5",
        "outputId": "02e81e0d-7696-444f-a068-9d9523210053"
      },
      "execution_count": 23,
      "outputs": [
        {
          "output_type": "stream",
          "name": "stdout",
          "text": [
            "Total number of characters in our dataset: 6616\n"
          ]
        }
      ]
    },
    {
      "cell_type": "code",
      "source": [
        "evaluate_perplexity(dataset_as_string_shak, model)"
      ],
      "metadata": {
        "colab": {
          "base_uri": "https://localhost:8080/"
        },
        "id": "Ukclu-6HcPAg",
        "outputId": "03d41301-1801-4add-a9b6-67b8a02a7f12"
      },
      "execution_count": 24,
      "outputs": [
        {
          "output_type": "execute_result",
          "data": {
            "text/plain": [
              "6.769117782221575"
            ]
          },
          "metadata": {},
          "execution_count": 24
        }
      ]
    },
    {
      "cell_type": "code",
      "source": [
        "evaluate_perplexity(dataset_as_string_wiki, model)"
      ],
      "metadata": {
        "colab": {
          "base_uri": "https://localhost:8080/"
        },
        "id": "IIbGEEn8fHhX",
        "outputId": "47dbb90d-15a6-44d4-bef5-a87128b043b2"
      },
      "execution_count": 25,
      "outputs": [
        {
          "output_type": "execute_result",
          "data": {
            "text/plain": [
              "16.2687740098086"
            ]
          },
          "metadata": {},
          "execution_count": 25
        }
      ]
    }
  ]
}